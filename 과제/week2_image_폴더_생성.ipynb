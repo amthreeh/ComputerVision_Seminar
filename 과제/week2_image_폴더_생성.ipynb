{
  "nbformat": 4,
  "nbformat_minor": 0,
  "metadata": {
    "colab": {
      "provenance": [],
      "include_colab_link": true
    },
    "kernelspec": {
      "name": "python3",
      "display_name": "Python 3"
    },
    "language_info": {
      "name": "python"
    }
  },
  "cells": [
    {
      "cell_type": "markdown",
      "metadata": {
        "id": "view-in-github",
        "colab_type": "text"
      },
      "source": [
        "<a href=\"https://colab.research.google.com/github/amthreeh/ComputerVision_Seminar/blob/main/%EA%B3%BC%EC%A0%9C/week2_image_%ED%8F%B4%EB%8D%94_%EC%83%9D%EC%84%B1.ipynb\" target=\"_parent\"><img src=\"https://colab.research.google.com/assets/colab-badge.svg\" alt=\"Open In Colab\"/></a>"
      ]
    },
    {
      "cell_type": "markdown",
      "source": [
        "#2주차 과제\n",
        "- 현재 original 폴더 안에 dolphin, shark, whale의 하위 폴더가 있으며 내부에는 각 이미지가 존재합니다.        \n",
        "- cv_seminar_project의 상위 경로에서 train, valid, test 폴더를 만든 뒤 해당 폴더 안에 각 클래스 별 폴더를 또 생성해준 뒤, 각각 7:2:1로 개수를 맞추어 image를 재배치 시켜주세요."
      ],
      "metadata": {
        "id": "itkRiAGR_SoQ"
      }
    },
    {
      "cell_type": "code",
      "source": [
        "from google.colab import drive\n",
        "drive.mount('/content/drive')"
      ],
      "metadata": {
        "colab": {
          "base_uri": "https://localhost:8080/"
        },
        "id": "dlIQXzM4-wio",
        "outputId": "e1718cac-208b-4613-8c88-c8fb96eebe2e"
      },
      "execution_count": null,
      "outputs": [
        {
          "output_type": "stream",
          "name": "stdout",
          "text": [
            "Drive already mounted at /content/drive; to attempt to forcibly remount, call drive.mount(\"/content/drive\", force_remount=True).\n"
          ]
        }
      ]
    },
    {
      "cell_type": "code",
      "source": [
        "pip install split-folders"
      ],
      "metadata": {
        "colab": {
          "base_uri": "https://localhost:8080/"
        },
        "id": "GaaS5LlORXzU",
        "outputId": "ecb57725-fc44-4800-d580-290d1e915f36"
      },
      "execution_count": null,
      "outputs": [
        {
          "output_type": "stream",
          "name": "stdout",
          "text": [
            "Looking in indexes: https://pypi.org/simple, https://us-python.pkg.dev/colab-wheels/public/simple/\n",
            "Collecting split-folders\n",
            "  Downloading split_folders-0.5.1-py3-none-any.whl (8.4 kB)\n",
            "Installing collected packages: split-folders\n",
            "Successfully installed split-folders-0.5.1\n"
          ]
        }
      ]
    },
    {
      "cell_type": "code",
      "source": [
        "#이미지 읽어오는 데 필요한 라이브러리\n",
        "import cv2 as cv\n",
        "import glob\n",
        "import shutil\n",
        "from collections import defaultdict\n",
        "import os\n",
        "import splitfolders #train,test,validation을 한번에 나누는 라이브러리\n",
        "\n"
      ],
      "metadata": {
        "id": "vboV1_kTAAMq"
      },
      "execution_count": null,
      "outputs": []
    },
    {
      "cell_type": "code",
      "source": [
        "%cd /content/drive/MyDrive/CV_seminar_project"
      ],
      "metadata": {
        "colab": {
          "base_uri": "https://localhost:8080/"
        },
        "id": "uch8DaePb1_K",
        "outputId": "91e2f8f7-ed9f-4298-a9d1-dc4c5f5268f5"
      },
      "execution_count": null,
      "outputs": [
        {
          "output_type": "stream",
          "name": "stdout",
          "text": [
            "/content/drive/MyDrive/CV_seminar_project\n"
          ]
        }
      ]
    },
    {
      "cell_type": "markdown",
      "source": [
        "#이미지 불러오기"
      ],
      "metadata": {
        "id": "-KaTXswDAxmq"
      }
    },
    {
      "cell_type": "code",
      "source": [
        "splitfolders.ratio(\"original\", output=\"output\", seed=1337, ratio=(.7, .2, .1))"
      ],
      "metadata": {
        "colab": {
          "base_uri": "https://localhost:8080/"
        },
        "id": "Qi_06y_Tbrlz",
        "outputId": "96ddcad1-1ade-4ee2-c082-42f83c531c10"
      },
      "execution_count": null,
      "outputs": [
        {
          "output_type": "stream",
          "name": "stderr",
          "text": [
            "Copying files: 1312 files [00:22, 58.11 files/s]\n"
          ]
        }
      ]
    },
    {
      "cell_type": "markdown",
      "source": [
        "seed 사용 이유: 유일한 목적은 데이터가 있고 임의성을 적용한 다음 다음에 동일한 데이터와 동일한 시드가 있으면 정확히 동일한 결과를 얻는 것입니다. 값의 의미는 없음"
      ],
      "metadata": {
        "id": "OcHBGEHOeO1D"
      }
    },
    {
      "cell_type": "code",
      "source": [],
      "metadata": {
        "id": "DP9_2Y9Tc5PI"
      },
      "execution_count": null,
      "outputs": []
    }
  ]
}