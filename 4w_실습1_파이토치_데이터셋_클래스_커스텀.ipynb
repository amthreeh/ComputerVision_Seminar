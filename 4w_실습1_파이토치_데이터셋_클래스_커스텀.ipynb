{
  "nbformat": 4,
  "nbformat_minor": 0,
  "metadata": {
    "colab": {
      "provenance": [],
      "authorship_tag": "ABX9TyOKr+de1M87BJrJfotNGlMB",
      "include_colab_link": true
    },
    "kernelspec": {
      "name": "python3",
      "display_name": "Python 3"
    },
    "language_info": {
      "name": "python"
    },
    "accelerator": "GPU",
    "gpuClass": "standard"
  },
  "cells": [
    {
      "cell_type": "markdown",
      "metadata": {
        "id": "view-in-github",
        "colab_type": "text"
      },
      "source": [
        "<a href=\"https://colab.research.google.com/github/amthreeh/ComputerVision_Seminar/blob/main/4w_%EC%8B%A4%EC%8A%B51_%ED%8C%8C%EC%9D%B4%ED%86%A0%EC%B9%98_%EB%8D%B0%EC%9D%B4%ED%84%B0%EC%85%8B_%ED%81%B4%EB%9E%98%EC%8A%A4_%EC%BB%A4%EC%8A%A4%ED%85%80.ipynb\" target=\"_parent\"><img src=\"https://colab.research.google.com/assets/colab-badge.svg\" alt=\"Open In Colab\"/></a>"
      ]
    },
    {
      "cell_type": "markdown",
      "source": [
        "# 4주차 - Pytorch"
      ],
      "metadata": {
        "id": "iun7sl6IVmlp"
      }
    },
    {
      "cell_type": "code",
      "source": [
        "from google.colab import drive\n",
        "drive.mount('/content/drive')"
      ],
      "metadata": {
        "colab": {
          "base_uri": "https://localhost:8080/"
        },
        "id": "dlIQXzM4-wio",
        "outputId": "a4ff3b5c-7d13-458f-e1ab-3d56f46cf6ab"
      },
      "execution_count": 1,
      "outputs": [
        {
          "output_type": "stream",
          "name": "stdout",
          "text": [
            "Mounted at /content/drive\n"
          ]
        }
      ]
    },
    {
      "cell_type": "code",
      "source": [
        "%cd /content/drive/MyDrive/CV_seminar_project"
      ],
      "metadata": {
        "colab": {
          "base_uri": "https://localhost:8080/"
        },
        "id": "uch8DaePb1_K",
        "outputId": "5fa1f6e6-983d-46b6-97dd-bf15eb0ac76f"
      },
      "execution_count": 2,
      "outputs": [
        {
          "output_type": "stream",
          "name": "stdout",
          "text": [
            "/content/drive/MyDrive/CV_seminar_project\n"
          ]
        }
      ]
    },
    {
      "cell_type": "code",
      "source": [
        "pwd"
      ],
      "metadata": {
        "colab": {
          "base_uri": "https://localhost:8080/",
          "height": 35
        },
        "id": "J4ytN1jikMxz",
        "outputId": "9756e302-da7e-4b33-9223-48314713dc30"
      },
      "execution_count": 3,
      "outputs": [
        {
          "output_type": "execute_result",
          "data": {
            "text/plain": [
              "'/content/drive/MyDrive/CV_seminar_project'"
            ],
            "application/vnd.google.colaboratory.intrinsic+json": {
              "type": "string"
            }
          },
          "metadata": {},
          "execution_count": 3
        }
      ]
    },
    {
      "cell_type": "code",
      "source": [
        "import torch\n",
        "import torchvision\n",
        "from torchvision import transforms\n",
        "import os\n",
        "import glob\n",
        "\n",
        "\n",
        "device = 'cuda' if torch.cuda.is_available() else 'cpu'\n",
        "torch.manual_seed(42)\n",
        "if device == 'cuda':\n",
        "  torch.cuda.manual_seed_all(42)"
      ],
      "metadata": {
        "id": "T703EwcAVqTx"
      },
      "execution_count": 4,
      "outputs": []
    },
    {
      "cell_type": "code",
      "source": [
        "device"
      ],
      "metadata": {
        "colab": {
          "base_uri": "https://localhost:8080/",
          "height": 35
        },
        "id": "R5dd6rkwWX3F",
        "outputId": "785bfb92-9752-4eca-c626-bba0e01ad7e0"
      },
      "execution_count": null,
      "outputs": [
        {
          "output_type": "execute_result",
          "data": {
            "text/plain": [
              "'cuda'"
            ],
            "application/vnd.google.colaboratory.intrinsic+json": {
              "type": "string"
            }
          },
          "metadata": {},
          "execution_count": 4
        }
      ]
    },
    {
      "cell_type": "code",
      "source": [
        "train_path='/content/drive/MyDrive/CV_seminar_project/train'\n",
        "test_path='/content/drive/MyDrive/CV_seminar_project/test'\n",
        "\n",
        "dolphin_dir = '/dolphin'\n",
        "shark_dir = '/shark'\n",
        "whale_dir = '/whale'"
      ],
      "metadata": {
        "id": "wNxyQgoSWq8Z"
      },
      "execution_count": 5,
      "outputs": []
    },
    {
      "cell_type": "markdown",
      "source": [
        "# pytorch 데이터셋 클래스 실습"
      ],
      "metadata": {
        "id": "wBuxhp9gXWNl"
      }
    },
    {
      "cell_type": "markdown",
      "source": [
        "## 1. 라이브러리를 이용하기\n",
        "이미지 전처리하기\n",
        "1. resize하기 -> 224, 224(H,W)\n",
        "2. tensor화 하기 -> 픽셀 값을 0-1로 바꾸기"
      ],
      "metadata": {
        "id": "fhATkh_yXb2N"
      }
    },
    {
      "cell_type": "code",
      "source": [
        "preprop_imgs = transforms.Compose(\n",
        "    [transforms.Resize( (224,224) ),\n",
        "     transforms.ToTensor()\n",
        "     ]\n",
        ")\n",
        "\n",
        "preprop_train = torchvision.datasets.ImageFolder(root=train_path, transform=preprop_imgs)\n",
        "preprop_test = torchvision.datasets.ImageFolder(root=test_path, transform=preprop_imgs)"
      ],
      "metadata": {
        "id": "CujoMaDwdwQm"
      },
      "execution_count": 6,
      "outputs": []
    },
    {
      "cell_type": "code",
      "source": [
        "preprop_train[0][0].shape #pytorch는 채널이 앞으로(c, h, w)"
      ],
      "metadata": {
        "colab": {
          "base_uri": "https://localhost:8080/"
        },
        "id": "L_N6ig6QY1Jk",
        "outputId": "7d12140d-9f92-4f3e-de6c-76e27010acaf"
      },
      "execution_count": 7,
      "outputs": [
        {
          "output_type": "execute_result",
          "data": {
            "text/plain": [
              "torch.Size([3, 224, 224])"
            ]
          },
          "metadata": {},
          "execution_count": 7
        }
      ]
    },
    {
      "cell_type": "code",
      "source": [
        "preprop_train[350][1]"
      ],
      "metadata": {
        "colab": {
          "base_uri": "https://localhost:8080/"
        },
        "id": "xFMASCbOZaxr",
        "outputId": "086e6dd2-379c-473e-9d7f-7a930d7d4fb7"
      },
      "execution_count": 8,
      "outputs": [
        {
          "output_type": "execute_result",
          "data": {
            "text/plain": [
              "1"
            ]
          },
          "metadata": {},
          "execution_count": 8
        }
      ]
    },
    {
      "cell_type": "code",
      "source": [
        "preprop_train[700][1]"
      ],
      "metadata": {
        "colab": {
          "base_uri": "https://localhost:8080/"
        },
        "id": "R5JO9N2gY56c",
        "outputId": "953b86a9-d00e-4f95-cf70-5e0c0467ce89"
      },
      "execution_count": 9,
      "outputs": [
        {
          "output_type": "execute_result",
          "data": {
            "text/plain": [
              "2"
            ]
          },
          "metadata": {},
          "execution_count": 9
        }
      ]
    },
    {
      "cell_type": "markdown",
      "source": [
        "Image Augmentation - 1\n",
        "\n",
        ">Normalize               \n",
        "\n",
        ">(X - Mean)/std -> 여러개가 이용가능한데,       \n",
        "\n",
        ">1. ImageNet 데이터셋의 Mean, std를 이용한다. \n",
        ">2. 지금 내가 가지고 있는 테이터 셋의 통계값을 이용한다."
      ],
      "metadata": {
        "id": "Bfpd8n-Ub-Fi"
      }
    },
    {
      "cell_type": "code",
      "source": [
        "Aug_imgs = transforms.Compose(\n",
        "    [transforms.Resize( (224,224) ),\n",
        "     transforms.RandomCrop(180),#이미지를 랜덤으로로 자름\n",
        "     transforms.ColorJitter(brightness=0.2, contrast=0.2, saturation=0.2, hue=0.2),\n",
        "     transforms.RandomHorizontalFlip(p=0.5),\n",
        "     transforms.RandomVerticalFlip(p=0.5), #좌우반전\n",
        "     transforms.ToTensor(),\n",
        "     transforms.Normalize(mean = [0.485, 0.456, 0.406],\n",
        "                          std = [0.229, 0.224, 0.225])\n",
        "     ]\n",
        ")\n",
        "\n",
        "Aug_train = torchvision.datasets.ImageFolder(root=train_path, transform=preprop_imgs)  #augmentation 진행행\n",
        "Aug_test = torchvision.datasets.ImageFolder(root=test_path, transform=preprop_imgs)  #test 셋은 augmentation하지 않는다."
      ],
      "metadata": {
        "id": "X7CcWfX7XUsC"
      },
      "execution_count": 10,
      "outputs": []
    },
    {
      "cell_type": "markdown",
      "source": [
        "1. 1000개 학습 x\n"
      ],
      "metadata": {
        "id": "C1fyvnI4fY8D"
      }
    },
    {
      "cell_type": "code",
      "source": [
        "train_loader = torch.utils.data.DataLoader(Aug_train, batch_size=4,\n",
        "                                      shuffle=True, num_workers=0)\n",
        "\n",
        "test_loader = torch.utils.data.DataLoader(Aug_test, batch_size=4,\n",
        "                                      shuffle=True, num_workers=0)"
      ],
      "metadata": {
        "id": "Gy4GkEUCeMLd"
      },
      "execution_count": 11,
      "outputs": []
    },
    {
      "cell_type": "code",
      "source": [
        "for data, label in train_loader:\n",
        "  # output = model(data, label)\n",
        "  # loss = func(output)\n",
        "  # loss.backward\n",
        "  # output\n",
        "  break"
      ],
      "metadata": {
        "id": "VAFC5mWGZVaK"
      },
      "execution_count": 12,
      "outputs": []
    },
    {
      "cell_type": "code",
      "source": [
        "label #이미지 라벨(상어, 돌고래, 상어, 상어) -> 원핫인코딩딩"
      ],
      "metadata": {
        "colab": {
          "base_uri": "https://localhost:8080/"
        },
        "id": "I2ibWnzwfwQK",
        "outputId": "625d002e-0e5b-457d-9b4e-866cd59c97f5"
      },
      "execution_count": 13,
      "outputs": [
        {
          "output_type": "execute_result",
          "data": {
            "text/plain": [
              "tensor([0, 2, 1, 2])"
            ]
          },
          "metadata": {},
          "execution_count": 13
        }
      ]
    },
    {
      "cell_type": "code",
      "source": [
        "data.shape #[4, 3, 224, 224] -> B, C, H, W"
      ],
      "metadata": {
        "colab": {
          "base_uri": "https://localhost:8080/"
        },
        "id": "L4k7OAa-fsyl",
        "outputId": "3799efea-aec9-47b6-81be-49a8146d1dd3"
      },
      "execution_count": 14,
      "outputs": [
        {
          "output_type": "execute_result",
          "data": {
            "text/plain": [
              "torch.Size([4, 3, 224, 224])"
            ]
          },
          "metadata": {},
          "execution_count": 14
        }
      ]
    }
  ]
}